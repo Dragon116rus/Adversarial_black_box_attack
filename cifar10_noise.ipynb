{
  "nbformat": 4,
  "nbformat_minor": 0,
  "metadata": {
    "colab": {
      "name": "cifar10_noise.ipynb",
      "provenance": [],
      "include_colab_link": true
    },
    "kernelspec": {
      "name": "python3",
      "display_name": "Python 3"
    },
    "accelerator": "GPU"
  },
  "cells": [
    {
      "cell_type": "markdown",
      "metadata": {
        "id": "view-in-github",
        "colab_type": "text"
      },
      "source": [
        "<a href=\"https://colab.research.google.com/github/Dragon116rus/Adversarial_black_box_attack/blob/master/cifar10_noise.ipynb\" target=\"_parent\"><img src=\"https://colab.research.google.com/assets/colab-badge.svg\" alt=\"Open In Colab\"/></a>"
      ]
    },
    {
      "cell_type": "code",
      "metadata": {
        "id": "-VmNezGdHvZ6",
        "colab_type": "code",
        "outputId": "56dda03a-0c51-49f0-f583-bd322950720c",
        "colab": {
          "base_uri": "https://localhost:8080/",
          "height": 121
        }
      },
      "source": [
        "from google.colab import drive\n",
        "drive.mount('/content/gdrive')"
      ],
      "execution_count": 1,
      "outputs": [
        {
          "output_type": "stream",
          "text": [
            "Go to this URL in a browser: https://accounts.google.com/o/oauth2/auth?client_id=947318989803-6bn6qk8qdgf4n4g3pfee6491hc0brc4i.apps.googleusercontent.com&redirect_uri=urn%3Aietf%3Awg%3Aoauth%3A2.0%3Aoob&scope=email%20https%3A%2F%2Fwww.googleapis.com%2Fauth%2Fdocs.test%20https%3A%2F%2Fwww.googleapis.com%2Fauth%2Fdrive%20https%3A%2F%2Fwww.googleapis.com%2Fauth%2Fdrive.photos.readonly%20https%3A%2F%2Fwww.googleapis.com%2Fauth%2Fpeopleapi.readonly&response_type=code\n",
            "\n",
            "Enter your authorization code:\n",
            "··········\n",
            "Mounted at /content/gdrive\n"
          ],
          "name": "stdout"
        }
      ]
    },
    {
      "cell_type": "code",
      "metadata": {
        "id": "d6TAzS2PH1Td",
        "colab_type": "code",
        "colab": {}
      },
      "source": [
        "import numpy as np"
      ],
      "execution_count": 0,
      "outputs": []
    },
    {
      "cell_type": "code",
      "metadata": {
        "id": "Hbyd3IlateXb",
        "colab_type": "code",
        "colab": {}
      },
      "source": [
        "import torch\n",
        "import torchvision\n",
        "import torchvision.transforms as transforms\n",
        "import torch.nn as nn\n",
        "import torch.nn.functional as F\n",
        "import torch.optim as optim\n",
        "from tqdm import tqdm_notebook as tqdm\n",
        "import gc"
      ],
      "execution_count": 0,
      "outputs": []
    },
    {
      "cell_type": "code",
      "metadata": {
        "id": "5FAcMs1ZWLVv",
        "colab_type": "code",
        "colab": {}
      },
      "source": [
        "tqdm = lambda x:  x"
      ],
      "execution_count": 0,
      "outputs": []
    },
    {
      "cell_type": "code",
      "metadata": {
        "id": "8ovNMyZ5cV01",
        "colab_type": "code",
        "colab": {}
      },
      "source": [
        "noise_scale = 0.4"
      ],
      "execution_count": 0,
      "outputs": []
    },
    {
      "cell_type": "code",
      "metadata": {
        "id": "SMdlrJ-Utjx5",
        "colab_type": "code",
        "outputId": "1fa117a1-72f8-43d6-a7cf-9300e3b98581",
        "colab": {
          "base_uri": "https://localhost:8080/",
          "height": 101
        }
      },
      "source": [
        "\n",
        "\n",
        "transform_train = transforms.Compose(\n",
        "    [\n",
        "    #  transforms.RandomHorizontalFlip(p=0.5),\n",
        "    #  transforms.RandomVerticalFlip(p=0.5),\n",
        "     transforms.ToTensor(),\n",
        "     \n",
        "     transforms.Normalize((0.5, 0.5, 0.5), (0.5, 0.5, 0.5))\n",
        "     ])\n",
        "\n",
        "transform_test = transforms.Compose(\n",
        "    [\n",
        "     transforms.ToTensor(),\n",
        "     \n",
        "     transforms.Normalize((0.5, 0.5, 0.5), (0.5, 0.5, 0.5))\n",
        "     ])\n",
        "\n",
        "transform_train_noise = transforms.Compose(\n",
        "    [\n",
        "    #  transforms.RandomHorizontalFlip(p=0.5),\n",
        "    #  transforms.RandomVerticalFlip(p=0.5),\n",
        "     transforms.ToTensor(),\n",
        "     transforms.Normalize((0.5, 0.5, 0.5), (0.5, 0.5, 0.5)),\n",
        "     transforms.Lambda(lambda x : x + noise_scale*torch.randn_like(x)),\n",
        "     ])\n",
        "\n",
        "transform_test_noise = transforms.Compose(\n",
        "    [\n",
        "    #  transforms.RandomHorizontalFlip(p=0.5),\n",
        "    #  transforms.RandomVerticalFlip(p=0.5),\n",
        "     transforms.ToTensor(),\n",
        "     transforms.Normalize((0.5, 0.5, 0.5), (0.5, 0.5, 0.5)),\n",
        "     transforms.Lambda(lambda x : x + noise_scale*torch.randn_like(x)),\n",
        "     ])\n",
        "\n",
        "batch_size = 32\n",
        "trainset = torchvision.datasets.CIFAR10(root='./data', train=True,\n",
        "                                        download=True, transform=transform_train)\n",
        "trainloader = torch.utils.data.DataLoader(trainset, batch_size=batch_size,\n",
        "                                          shuffle=True, num_workers=2)\n",
        "\n",
        "testset = torchvision.datasets.CIFAR10(root='./data', train=False,\n",
        "                                       download=True, transform=transform_test)\n",
        "testloader = torch.utils.data.DataLoader(testset, batch_size=batch_size,\n",
        "                                         shuffle=False, num_workers=2)\n",
        "\n",
        "\n",
        "trainset_noise = torchvision.datasets.CIFAR10(root='./data', train=True,\n",
        "                                        download=True, transform=transform_train_noise)\n",
        "trainloader_noise = torch.utils.data.DataLoader(trainset_noise, batch_size=batch_size,\n",
        "                                          shuffle=True, num_workers=2)\n",
        "\n",
        "testset_noise = torchvision.datasets.CIFAR10(root='./data', train=False,\n",
        "                                       download=True, transform=transform_test_noise)\n",
        "testloader_noise = torch.utils.data.DataLoader(testset_noise, batch_size=batch_size,\n",
        "                                         shuffle=False, num_workers=2)\n",
        "\n",
        "classes = ('plane', 'car', 'bird', 'cat',\n",
        "           'deer', 'dog', 'frog', 'horse', 'ship', 'truck')"
      ],
      "execution_count": 6,
      "outputs": [
        {
          "output_type": "stream",
          "text": [
            "\r0it [00:00, ?it/s]"
          ],
          "name": "stderr"
        },
        {
          "output_type": "stream",
          "text": [
            "Downloading https://www.cs.toronto.edu/~kriz/cifar-10-python.tar.gz to ./data/cifar-10-python.tar.gz\n"
          ],
          "name": "stdout"
        },
        {
          "output_type": "stream",
          "text": [
            " 98%|█████████▊| 167501824/170498071 [00:11<00:00, 17376037.73it/s]"
          ],
          "name": "stderr"
        },
        {
          "output_type": "stream",
          "text": [
            "Extracting ./data/cifar-10-python.tar.gz to ./data\n",
            "Files already downloaded and verified\n",
            "Files already downloaded and verified\n",
            "Files already downloaded and verified\n"
          ],
          "name": "stdout"
        }
      ]
    },
    {
      "cell_type": "code",
      "metadata": {
        "id": "iyRWbjlncpu3",
        "colab_type": "code",
        "outputId": "b6d6244d-0622-463b-e35a-b46a6b1e8887",
        "colab": {
          "base_uri": "https://localhost:8080/",
          "height": 254
        }
      },
      "source": [
        "import matplotlib.pyplot as plt\n",
        "import numpy as np\n",
        "\n",
        "# functions to show an image\n",
        "\n",
        "\n",
        "def imshow(img):\n",
        "    img = img / 2 + 0.5     # unnormalize\n",
        "    npimg = img.numpy()\n",
        "    plt.imshow(np.transpose(npimg, (1, 2, 0)))\n",
        "    plt.show()\n",
        "\n",
        "\n",
        "# get some random training images\n",
        "dataiter = iter(trainloader_noise)\n",
        "images, labels = dataiter.next()\n",
        "\n",
        "# show images\n",
        "imshow(torchvision.utils.make_grid(images))\n",
        "# print labels\n",
        "print(' '.join('%5s' % classes[labels[j]] for j in range(4)))"
      ],
      "execution_count": 7,
      "outputs": [
        {
          "output_type": "stream",
          "text": [
            "Clipping input data to the valid range for imshow with RGB data ([0..1] for floats or [0..255] for integers).\n"
          ],
          "name": "stderr"
        },
        {
          "output_type": "display_data",
          "data": {
            "image/png": "[encoded data removed]",
            "text/plain": [
              "<Figure size 432x288 with 1 Axes>"
            ]
          },
          "metadata": {
            "tags": []
          }
        },
        {
          "output_type": "stream",
          "text": [
            " ship horse   car  bird\n"
          ],
          "name": "stdout"
        }
      ]
    },
    {
      "cell_type": "code",
      "metadata": {
        "id": "C9mKvgwv0oY5",
        "colab_type": "code",
        "outputId": "d6a35236-5d05-4968-bd21-d381653c34d9",
        "colab": {
          "base_uri": "https://localhost:8080/",
          "height": 235
        }
      },
      "source": [
        "class Net(nn.Module):\n",
        "    def __init__(self):\n",
        "        super(Net, self).__init__()\n",
        "        self.conv1 = nn.Conv2d(3, 16, 3, padding=1)\n",
        "        self.batchnorm1 = nn.BatchNorm2d(16)\n",
        "        self.conv2 = nn.Conv2d(16, 32, 3, padding=1)\n",
        "        self.pool = nn.MaxPool2d(2, 2)\n",
        "\n",
        "        self.batchnorm2 = nn.BatchNorm2d(32)\n",
        "        self.conv3 = nn.Conv2d(32, 64, 3, padding=1)\n",
        "        self.batchnorm3 = nn.BatchNorm2d(64)\n",
        "        self.conv4 = nn.Conv2d(64, 128, 3, padding=1)\n",
        "        self.batchnorm4 = nn.BatchNorm2d(128)\n",
        "\n",
        "        self.avgpool = nn.AdaptiveAvgPool2d((1, 1))\n",
        "        self.fc1 = nn.Linear(128, 10)\n",
        "\n",
        "\n",
        "    def forward(self, x):\n",
        "        x = self.conv1(x)\n",
        "        x = self.batchnorm1(x)\n",
        "        x = F.relu(x)\n",
        "\n",
        "        x = self.conv2(x)\n",
        "        x = self.batchnorm2(x)\n",
        "        x = F.relu(x)\n",
        "\n",
        "        x = self.pool(x)\n",
        "\n",
        "        x = self.conv3(x)\n",
        "        x = self.batchnorm3(x)\n",
        "        x = F.relu(x)\n",
        "        x = self.conv4(x)\n",
        "        x = self.batchnorm4(x)\n",
        "        x = F.relu(x)\n",
        "        x = self.pool(x)\n",
        "\n",
        "        # x = self.conv5(x)\n",
        "        # x = self.batchnorm5(x)\n",
        "        # x = F.relu(x)\n",
        "        # x = self.conv6(x)\n",
        "        # x = self.batchnorm6(x)\n",
        "        # x = F.relu(x)\n",
        "        # x = self.pool(x)\n",
        "\n",
        "        x = self.avgpool(x)\n",
        "        x = torch.flatten(x, 1)\n",
        "        x = self.fc1(x)\n",
        "\n",
        "        # x = torch.softmax(x, 1)\n",
        "        \n",
        "        return x\n",
        "\n",
        "    def soft_forward(self, x, temperature):\n",
        "        x = self.conv1(x)\n",
        "        x = self.batchnorm1(x)\n",
        "        x = F.relu(x)\n",
        "\n",
        "        x = self.conv2(x)\n",
        "        x = self.batchnorm2(x)\n",
        "        x = F.relu(x)\n",
        "\n",
        "        x = self.pool(x)\n",
        "\n",
        "        x = self.conv3(x)\n",
        "        x = self.batchnorm3(x)\n",
        "        x = F.relu(x)\n",
        "        x = self.conv4(x)\n",
        "        x = self.batchnorm4(x)\n",
        "        x = F.relu(x)\n",
        "        x = self.pool(x)\n",
        "\n",
        "        x = self.avgpool(x)\n",
        "        x = torch.flatten(x, 1)\n",
        "        \n",
        "        x = self.fc1(x)\n",
        "        x = x/temperature\n",
        "        x = torch.softmax(x, 1)\n",
        "        return x\n",
        "\n",
        "\n",
        "\n",
        "net = Net()\n",
        "net.cuda()"
      ],
      "execution_count": 8,
      "outputs": [
        {
          "output_type": "execute_result",
          "data": {
            "text/plain": [
              "Net(\n",
              "  (conv1): Conv2d(3, 16, kernel_size=(3, 3), stride=(1, 1), padding=(1, 1))\n",
              "  (batchnorm1): BatchNorm2d(16, eps=1e-05, momentum=0.1, affine=True, track_running_stats=True)\n",
              "  (conv2): Conv2d(16, 32, kernel_size=(3, 3), stride=(1, 1), padding=(1, 1))\n",
              "  (pool): MaxPool2d(kernel_size=2, stride=2, padding=0, dilation=1, ceil_mode=False)\n",
              "  (batchnorm2): BatchNorm2d(32, eps=1e-05, momentum=0.1, affine=True, track_running_stats=True)\n",
              "  (conv3): Conv2d(32, 64, kernel_size=(3, 3), stride=(1, 1), padding=(1, 1))\n",
              "  (batchnorm3): BatchNorm2d(64, eps=1e-05, momentum=0.1, affine=True, track_running_stats=True)\n",
              "  (conv4): Conv2d(64, 128, kernel_size=(3, 3), stride=(1, 1), padding=(1, 1))\n",
              "  (batchnorm4): BatchNorm2d(128, eps=1e-05, momentum=0.1, affine=True, track_running_stats=True)\n",
              "  (avgpool): AdaptiveAvgPool2d(output_size=(1, 1))\n",
              "  (fc1): Linear(in_features=128, out_features=10, bias=True)\n",
              ")"
            ]
          },
          "metadata": {
            "tags": []
          },
          "execution_count": 8
        }
      ]
    },
    {
      "cell_type": "code",
      "metadata": {
        "id": "r1bgbcjGgeQB",
        "colab_type": "code",
        "colab": {}
      },
      "source": [
        "# class ResNetBottom(nn.Module):\n",
        "#     def __init__(self, original_model):\n",
        "#         super(ResNetBottom, self).__init__()\n",
        "#         self.features = nn.Sequential(*list(original_model.children())[:-1])\n",
        "#         self.fc = nn.Linear(512, 10)\n",
        "        \n",
        "#     def forward(self, x):\n",
        "#         x = self.features(x)\n",
        "#         x = torch.flatten(x, 1)\n",
        "#         return self.fc(x)\n",
        "\n",
        "# res18_model = torchvision.models.resnet18(pretrained=True)\n",
        "# net = ResNetBottom(res18_model)"
      ],
      "execution_count": 0,
      "outputs": []
    },
    {
      "cell_type": "code",
      "metadata": {
        "id": "UOK-hmoJhaud",
        "colab_type": "code",
        "colab": {}
      },
      "source": [
        "# net = torchvision.models.resnet18(pretrained=False, )"
      ],
      "execution_count": 0,
      "outputs": []
    },
    {
      "cell_type": "code",
      "metadata": {
        "id": "La5e2PaYvhHs",
        "colab_type": "code",
        "colab": {}
      },
      "source": [
        "def validate(net, add_noise=False):\n",
        "  net.eval()\n",
        "  predict_all = []\n",
        "  true_labels_all = []\n",
        "  add_noise_f = lambda x : x + noise_scale*torch.randn_like(x)\n",
        "  for i, data in tqdm(enumerate(testloader, 0)):\n",
        "    inputs, labels = data\n",
        "    inputs, labels = inputs.cuda(), labels.cuda()\n",
        "    if add_noise:\n",
        "      inputs = add_noise_f(inputs)\n",
        "    outputs = net(inputs).cpu().detach().numpy()\n",
        "    labels = labels.cpu().detach().numpy()\n",
        "    predict_all += list(np.argmax(outputs, axis=1))\n",
        "    true_labels_all += list(labels)\n",
        "  print(\"accuracy:\", (np.array(true_labels_all)==np.array(predict_all)).mean())\n",
        "  net.train()"
      ],
      "execution_count": 0,
      "outputs": []
    },
    {
      "cell_type": "code",
      "metadata": {
        "id": "O-qkM0DOt5H_",
        "colab_type": "code",
        "colab": {}
      },
      "source": [
        "net.cuda()\n",
        "criterion = nn.CrossEntropyLoss()\n",
        "\n",
        "optimizer = optim.Adam(net.parameters(), lr=1e-3)\n",
        "scheduler = optim.lr_scheduler.StepLR(optimizer, step_size=1000 * 40, gamma=0.33)"
      ],
      "execution_count": 0,
      "outputs": []
    },
    {
      "cell_type": "code",
      "metadata": {
        "id": "pDtpGuMorPLI",
        "colab_type": "code",
        "colab": {}
      },
      "source": [
        ""
      ],
      "execution_count": 0,
      "outputs": []
    },
    {
      "cell_type": "code",
      "metadata": {
        "id": "39z0UbSTuHU5",
        "colab_type": "code",
        "outputId": "2c2645c8-d856-46bc-db18-de7bf52dcb5e",
        "colab": {
          "base_uri": "https://localhost:8080/",
          "height": 1000
        }
      },
      "source": [
        "net.train()\n",
        "for epoch in range(200):  # loop over the dataset multiple times\n",
        "\n",
        "    running_loss = 0.0\n",
        "    for i, data in tqdm(enumerate(trainloader_noise, 1)):\n",
        "        # get the inputs; data is a list of [inputs, labels]\n",
        "        inputs, labels = data\n",
        "        inputs, labels = inputs.cuda(), labels.cuda()\n",
        "        # zero the parameter gradients\n",
        "        optimizer.zero_grad()\n",
        "\n",
        "        # forward + backward + optimize\n",
        "        outputs = net(inputs)\n",
        "        loss = criterion(outputs, labels)\n",
        "        loss.backward()\n",
        "        optimizer.step()\n",
        "        scheduler.step()\n",
        "        # print statistics\n",
        "        running_loss += loss.item()\n",
        "        if i % 1000 == 0:    # print every 2000 mini-batches\n",
        "            print('[%d, %5d] loss: %.3f' %\n",
        "                  (epoch, i, running_loss / 1000))\n",
        "            running_loss = 0.0\n",
        "    \n",
        "\n",
        "    gc.collect()\n",
        "    torch.cuda.empty_cache()  \n",
        "    torch.save(net.state_dict(), \"model_epoch%s.dms\"%epoch)\n",
        "    validate(net, True)\n",
        "print('Finished Training')"
      ],
      "execution_count": 0,
      "outputs": [
        {
          "output_type": "stream",
          "text": [
            "[0,  1000] loss: 1.642\n",
            "accuracy: 0.4845\n",
            "[1,  1000] loss: 1.368\n",
            "accuracy: 0.535\n",
            "[2,  1000] loss: 1.278\n",
            "accuracy: 0.5587\n",
            "[3,  1000] loss: 1.213\n",
            "accuracy: 0.5509\n",
            "[4,  1000] loss: 1.176\n",
            "accuracy: 0.5748\n",
            "[5,  1000] loss: 1.138\n",
            "accuracy: 0.5985\n",
            "[6,  1000] loss: 1.110\n",
            "accuracy: 0.605\n",
            "[7,  1000] loss: 1.079\n",
            "accuracy: 0.6192\n",
            "[8,  1000] loss: 1.057\n",
            "accuracy: 0.6134\n",
            "[9,  1000] loss: 1.049\n",
            "accuracy: 0.6208\n",
            "[10,  1000] loss: 1.027\n",
            "accuracy: 0.6244\n",
            "[11,  1000] loss: 1.011\n",
            "accuracy: 0.6377\n",
            "[12,  1000] loss: 0.991\n",
            "accuracy: 0.6278\n",
            "[13,  1000] loss: 0.990\n",
            "accuracy: 0.6372\n",
            "[14,  1000] loss: 0.974\n",
            "accuracy: 0.634\n",
            "[15,  1000] loss: 0.957\n",
            "accuracy: 0.6522\n",
            "[16,  1000] loss: 0.951\n",
            "accuracy: 0.6572\n",
            "[17,  1000] loss: 0.938\n",
            "accuracy: 0.637\n",
            "[18,  1000] loss: 0.938\n",
            "accuracy: 0.6454\n",
            "[19,  1000] loss: 0.924\n",
            "accuracy: 0.6511\n",
            "[20,  1000] loss: 0.914\n",
            "accuracy: 0.6543\n",
            "[21,  1000] loss: 0.911\n",
            "accuracy: 0.6609\n",
            "[22,  1000] loss: 0.902\n",
            "accuracy: 0.6716\n",
            "[23,  1000] loss: 0.896\n",
            "accuracy: 0.6642\n",
            "[24,  1000] loss: 0.894\n",
            "accuracy: 0.6774\n",
            "[25,  1000] loss: 0.882\n",
            "accuracy: 0.6902\n",
            "[26,  1000] loss: 0.828\n",
            "accuracy: 0.6816\n",
            "[27,  1000] loss: 0.826\n",
            "accuracy: 0.6925\n",
            "[28,  1000] loss: 0.822\n",
            "accuracy: 0.6914\n",
            "[29,  1000] loss: 0.824\n",
            "accuracy: 0.6881\n",
            "[30,  1000] loss: 0.817\n",
            "accuracy: 0.6904\n",
            "[31,  1000] loss: 0.821\n",
            "accuracy: 0.6978\n",
            "[32,  1000] loss: 0.803\n",
            "accuracy: 0.7005\n",
            "[33,  1000] loss: 0.810\n",
            "accuracy: 0.6956\n",
            "[34,  1000] loss: 0.810\n",
            "accuracy: 0.6915\n",
            "[35,  1000] loss: 0.802\n",
            "accuracy: 0.6937\n",
            "[36,  1000] loss: 0.800\n",
            "accuracy: 0.6922\n",
            "[37,  1000] loss: 0.802\n",
            "accuracy: 0.6913\n",
            "[38,  1000] loss: 0.791\n",
            "accuracy: 0.6921\n",
            "[39,  1000] loss: 0.797\n",
            "accuracy: 0.6939\n",
            "[40,  1000] loss: 0.791\n",
            "accuracy: 0.6947\n",
            "[41,  1000] loss: 0.784\n",
            "accuracy: 0.6868\n",
            "[42,  1000] loss: 0.784\n",
            "accuracy: 0.6939\n",
            "[43,  1000] loss: 0.785\n",
            "accuracy: 0.6993\n",
            "[44,  1000] loss: 0.773\n",
            "accuracy: 0.6984\n",
            "[45,  1000] loss: 0.777\n",
            "accuracy: 0.6884\n",
            "[46,  1000] loss: 0.784\n",
            "accuracy: 0.7022\n",
            "[47,  1000] loss: 0.781\n",
            "accuracy: 0.6938\n",
            "[48,  1000] loss: 0.775\n",
            "accuracy: 0.6959\n",
            "[49,  1000] loss: 0.779\n",
            "accuracy: 0.7013\n",
            "[50,  1000] loss: 0.775\n",
            "accuracy: 0.6965\n",
            "[51,  1000] loss: 0.757\n",
            "accuracy: 0.7103\n",
            "[52,  1000] loss: 0.745\n",
            "accuracy: 0.7047\n",
            "[53,  1000] loss: 0.739\n",
            "accuracy: 0.7006\n",
            "[54,  1000] loss: 0.743\n",
            "accuracy: 0.7019\n",
            "[55,  1000] loss: 0.747\n",
            "accuracy: 0.7059\n",
            "[56,  1000] loss: 0.740\n",
            "accuracy: 0.7061\n",
            "[57,  1000] loss: 0.739\n",
            "accuracy: 0.7051\n",
            "[58,  1000] loss: 0.745\n",
            "accuracy: 0.7052\n",
            "[59,  1000] loss: 0.748\n",
            "accuracy: 0.7094\n",
            "[60,  1000] loss: 0.745\n",
            "accuracy: 0.7095\n",
            "[61,  1000] loss: 0.735\n",
            "accuracy: 0.7054\n",
            "[62,  1000] loss: 0.740\n",
            "accuracy: 0.7056\n",
            "[63,  1000] loss: 0.735\n",
            "accuracy: 0.704\n",
            "[64,  1000] loss: 0.733\n",
            "accuracy: 0.7062\n",
            "[65,  1000] loss: 0.735\n",
            "accuracy: 0.7045\n",
            "[66,  1000] loss: 0.733\n",
            "accuracy: 0.7059\n",
            "[67,  1000] loss: 0.736\n",
            "accuracy: 0.7079\n",
            "[68,  1000] loss: 0.732\n",
            "accuracy: 0.704\n",
            "[69,  1000] loss: 0.733\n",
            "accuracy: 0.7113\n",
            "[70,  1000] loss: 0.732\n",
            "accuracy: 0.7047\n",
            "[71,  1000] loss: 0.730\n",
            "accuracy: 0.7105\n",
            "[72,  1000] loss: 0.736\n",
            "accuracy: 0.7081\n",
            "[73,  1000] loss: 0.725\n",
            "accuracy: 0.7038\n",
            "[74,  1000] loss: 0.731\n",
            "accuracy: 0.701\n",
            "[75,  1000] loss: 0.735\n",
            "accuracy: 0.7114\n",
            "[76,  1000] loss: 0.734\n",
            "accuracy: 0.707\n",
            "[77,  1000] loss: 0.719\n",
            "accuracy: 0.7076\n",
            "[78,  1000] loss: 0.716\n",
            "accuracy: 0.7101\n",
            "[79,  1000] loss: 0.724\n",
            "accuracy: 0.707\n",
            "[80,  1000] loss: 0.727\n",
            "accuracy: 0.7067\n",
            "[81,  1000] loss: 0.722\n",
            "accuracy: 0.7089\n",
            "[82,  1000] loss: 0.720\n",
            "accuracy: 0.7086\n",
            "[83,  1000] loss: 0.720\n",
            "accuracy: 0.7083\n",
            "[84,  1000] loss: 0.723\n",
            "accuracy: 0.7097\n",
            "[85,  1000] loss: 0.718\n",
            "accuracy: 0.7042\n",
            "[86,  1000] loss: 0.721\n",
            "accuracy: 0.7063\n",
            "[87,  1000] loss: 0.716\n",
            "accuracy: 0.7062\n",
            "[88,  1000] loss: 0.712\n"
          ],
          "name": "stdout"
        },
        {
          "output_type": "error",
          "ename": "KeyboardInterrupt",
          "evalue": "ignored",
          "traceback": [
            "\u001b[0;31m---------------------------------------------------------------------------\u001b[0m",
            "\u001b[0;31mKeyboardInterrupt\u001b[0m                         Traceback (most recent call last)",
            "\u001b[0;32m<ipython-input-45-a8a983c40763>\u001b[0m in \u001b[0;36m<module>\u001b[0;34m()\u001b[0m\n\u001b[1;32m     14\u001b[0m         \u001b[0mloss\u001b[0m \u001b[0;34m=\u001b[0m \u001b[0mcriterion\u001b[0m\u001b[0;34m(\u001b[0m\u001b[0moutputs\u001b[0m\u001b[0;34m,\u001b[0m \u001b[0mlabels\u001b[0m\u001b[0;34m)\u001b[0m\u001b[0;34m\u001b[0m\u001b[0;34m\u001b[0m\u001b[0m\n\u001b[1;32m     15\u001b[0m         \u001b[0mloss\u001b[0m\u001b[0;34m.\u001b[0m\u001b[0mbackward\u001b[0m\u001b[0;34m(\u001b[0m\u001b[0;34m)\u001b[0m\u001b[0;34m\u001b[0m\u001b[0;34m\u001b[0m\u001b[0m\n\u001b[0;32m---> 16\u001b[0;31m         \u001b[0moptimizer\u001b[0m\u001b[0;34m.\u001b[0m\u001b[0mstep\u001b[0m\u001b[0;34m(\u001b[0m\u001b[0;34m)\u001b[0m\u001b[0;34m\u001b[0m\u001b[0;34m\u001b[0m\u001b[0m\n\u001b[0m\u001b[1;32m     17\u001b[0m         \u001b[0mscheduler\u001b[0m\u001b[0;34m.\u001b[0m\u001b[0mstep\u001b[0m\u001b[0;34m(\u001b[0m\u001b[0;34m)\u001b[0m\u001b[0;34m\u001b[0m\u001b[0;34m\u001b[0m\u001b[0m\n\u001b[1;32m     18\u001b[0m         \u001b[0;31m# print statistics\u001b[0m\u001b[0;34m\u001b[0m\u001b[0;34m\u001b[0m\u001b[0;34m\u001b[0m\u001b[0m\n",
            "\u001b[0;32m/usr/local/lib/python3.6/dist-packages/torch/optim/lr_scheduler.py\u001b[0m in \u001b[0;36mwrapper\u001b[0;34m(*args, **kwargs)\u001b[0m\n\u001b[1;32m     49\u001b[0m                 \u001b[0minstance\u001b[0m\u001b[0;34m.\u001b[0m\u001b[0m_step_count\u001b[0m \u001b[0;34m+=\u001b[0m \u001b[0;36m1\u001b[0m\u001b[0;34m\u001b[0m\u001b[0;34m\u001b[0m\u001b[0m\n\u001b[1;32m     50\u001b[0m                 \u001b[0mwrapped\u001b[0m \u001b[0;34m=\u001b[0m \u001b[0mfunc\u001b[0m\u001b[0;34m.\u001b[0m\u001b[0m__get__\u001b[0m\u001b[0;34m(\u001b[0m\u001b[0minstance\u001b[0m\u001b[0;34m,\u001b[0m \u001b[0mcls\u001b[0m\u001b[0;34m)\u001b[0m\u001b[0;34m\u001b[0m\u001b[0;34m\u001b[0m\u001b[0m\n\u001b[0;32m---> 51\u001b[0;31m                 \u001b[0;32mreturn\u001b[0m \u001b[0mwrapped\u001b[0m\u001b[0;34m(\u001b[0m\u001b[0;34m*\u001b[0m\u001b[0margs\u001b[0m\u001b[0;34m,\u001b[0m \u001b[0;34m**\u001b[0m\u001b[0mkwargs\u001b[0m\u001b[0;34m)\u001b[0m\u001b[0;34m\u001b[0m\u001b[0;34m\u001b[0m\u001b[0m\n\u001b[0m\u001b[1;32m     52\u001b[0m \u001b[0;34m\u001b[0m\u001b[0m\n\u001b[1;32m     53\u001b[0m             \u001b[0;31m# Note that the returned function here is no longer a bound method,\u001b[0m\u001b[0;34m\u001b[0m\u001b[0;34m\u001b[0m\u001b[0;34m\u001b[0m\u001b[0m\n",
            "\u001b[0;32m/usr/local/lib/python3.6/dist-packages/torch/optim/adam.py\u001b[0m in \u001b[0;36mstep\u001b[0;34m(self, closure)\u001b[0m\n\u001b[1;32m    101\u001b[0m                     \u001b[0mdenom\u001b[0m \u001b[0;34m=\u001b[0m \u001b[0;34m(\u001b[0m\u001b[0mmax_exp_avg_sq\u001b[0m\u001b[0;34m.\u001b[0m\u001b[0msqrt\u001b[0m\u001b[0;34m(\u001b[0m\u001b[0;34m)\u001b[0m \u001b[0;34m/\u001b[0m \u001b[0mmath\u001b[0m\u001b[0;34m.\u001b[0m\u001b[0msqrt\u001b[0m\u001b[0;34m(\u001b[0m\u001b[0mbias_correction2\u001b[0m\u001b[0;34m)\u001b[0m\u001b[0;34m)\u001b[0m\u001b[0;34m.\u001b[0m\u001b[0madd_\u001b[0m\u001b[0;34m(\u001b[0m\u001b[0mgroup\u001b[0m\u001b[0;34m[\u001b[0m\u001b[0;34m'eps'\u001b[0m\u001b[0;34m]\u001b[0m\u001b[0;34m)\u001b[0m\u001b[0;34m\u001b[0m\u001b[0;34m\u001b[0m\u001b[0m\n\u001b[1;32m    102\u001b[0m                 \u001b[0;32melse\u001b[0m\u001b[0;34m:\u001b[0m\u001b[0;34m\u001b[0m\u001b[0;34m\u001b[0m\u001b[0m\n\u001b[0;32m--> 103\u001b[0;31m                     \u001b[0mdenom\u001b[0m \u001b[0;34m=\u001b[0m \u001b[0;34m(\u001b[0m\u001b[0mexp_avg_sq\u001b[0m\u001b[0;34m.\u001b[0m\u001b[0msqrt\u001b[0m\u001b[0;34m(\u001b[0m\u001b[0;34m)\u001b[0m \u001b[0;34m/\u001b[0m \u001b[0mmath\u001b[0m\u001b[0;34m.\u001b[0m\u001b[0msqrt\u001b[0m\u001b[0;34m(\u001b[0m\u001b[0mbias_correction2\u001b[0m\u001b[0;34m)\u001b[0m\u001b[0;34m)\u001b[0m\u001b[0;34m.\u001b[0m\u001b[0madd_\u001b[0m\u001b[0;34m(\u001b[0m\u001b[0mgroup\u001b[0m\u001b[0;34m[\u001b[0m\u001b[0;34m'eps'\u001b[0m\u001b[0;34m]\u001b[0m\u001b[0;34m)\u001b[0m\u001b[0;34m\u001b[0m\u001b[0;34m\u001b[0m\u001b[0m\n\u001b[0m\u001b[1;32m    104\u001b[0m \u001b[0;34m\u001b[0m\u001b[0m\n\u001b[1;32m    105\u001b[0m                 \u001b[0mstep_size\u001b[0m \u001b[0;34m=\u001b[0m \u001b[0mgroup\u001b[0m\u001b[0;34m[\u001b[0m\u001b[0;34m'lr'\u001b[0m\u001b[0;34m]\u001b[0m \u001b[0;34m/\u001b[0m \u001b[0mbias_correction1\u001b[0m\u001b[0;34m\u001b[0m\u001b[0;34m\u001b[0m\u001b[0m\n",
            "\u001b[0;31mKeyboardInterrupt\u001b[0m: "
          ]
        }
      ]
    },
    {
      "cell_type": "code",
      "metadata": {
        "id": "ZXJkm1LiHezs",
        "colab_type": "code",
        "colab": {}
      },
      "source": [
        "!cp  model_epoch75.dms \"gdrive/My Drive/Colab Notebooks/Study/theasis/model1_cifar_noise.dms\""
      ],
      "execution_count": 0,
      "outputs": []
    },
    {
      "cell_type": "code",
      "metadata": {
        "id": "NPelMx1sukAQ",
        "colab_type": "code",
        "outputId": "168af20f-5f04-4d38-c2a9-8f11052ad6e3",
        "colab": {
          "base_uri": "https://localhost:8080/",
          "height": 34
        }
      },
      "source": [
        "drive.mount('/content/gdrive')"
      ],
      "execution_count": 0,
      "outputs": [
        {
          "output_type": "stream",
          "text": [
            "Mounted at /content/gdrive\n"
          ],
          "name": "stdout"
        }
      ]
    },
    {
      "cell_type": "code",
      "metadata": {
        "id": "HdBPWFBhJ9cg",
        "colab_type": "code",
        "colab": {}
      },
      "source": [
        "!cp  \"gdrive/My Drive/Colab Notebooks/Study/theasis/model1.dms\" model1.dms"
      ],
      "execution_count": 0,
      "outputs": []
    },
    {
      "cell_type": "code",
      "metadata": {
        "id": "95iuI0zsru8Z",
        "colab_type": "code",
        "colab": {}
      },
      "source": [
        "!cp  \"gdrive/My Drive/Colab Notebooks/Study/theasis/model1_cifar_noise.dms\" model1_noise.dms"
      ],
      "execution_count": 0,
      "outputs": []
    },
    {
      "cell_type": "code",
      "metadata": {
        "id": "BVtnrufK5_BR",
        "colab_type": "code",
        "colab": {}
      },
      "source": [
        "!cp  \"gdrive/My Drive/Colab Notebooks/Study/theasis/model3.dms\" model3.dms "
      ],
      "execution_count": 0,
      "outputs": []
    },
    {
      "cell_type": "code",
      "metadata": {
        "id": "3i8HO6w0Ngnw",
        "colab_type": "code",
        "outputId": "59d522f6-1cd8-47b1-c7c6-e7483d966bac",
        "colab": {
          "base_uri": "https://localhost:8080/",
          "height": 34
        }
      },
      "source": [
        "net.load_state_dict(torch.load('model1.dms'))"
      ],
      "execution_count": 0,
      "outputs": [
        {
          "output_type": "execute_result",
          "data": {
            "text/plain": [
              "<All keys matched successfully>"
            ]
          },
          "metadata": {
            "tags": []
          },
          "execution_count": 55
        }
      ]
    },
    {
      "cell_type": "code",
      "metadata": {
        "id": "UdgtJLfWrqYJ",
        "colab_type": "code",
        "colab": {}
      },
      "source": [
        "net2 = Net().cuda()"
      ],
      "execution_count": 0,
      "outputs": []
    },
    {
      "cell_type": "code",
      "metadata": {
        "id": "NRW8G8hnOHPy",
        "colab_type": "code",
        "outputId": "0b3cff63-1b04-4dc1-866a-168711340187",
        "colab": {
          "base_uri": "https://localhost:8080/",
          "height": 34
        }
      },
      "source": [
        "net2.load_state_dict(torch.load('model1_noise.dms'))"
      ],
      "execution_count": 0,
      "outputs": [
        {
          "output_type": "execute_result",
          "data": {
            "text/plain": [
              "<All keys matched successfully>"
            ]
          },
          "metadata": {
            "tags": []
          },
          "execution_count": 58
        }
      ]
    },
    {
      "cell_type": "code",
      "metadata": {
        "id": "4Opu47wtNg0i",
        "colab_type": "code",
        "outputId": "1550e802-f44b-473e-fc6b-439bd4875030",
        "colab": {
          "base_uri": "https://localhost:8080/",
          "height": 67
        }
      },
      "source": [
        "\n",
        "validate(net, add_noise=False), validate(net, add_noise=True);"
      ],
      "execution_count": 0,
      "outputs": [
        {
          "output_type": "stream",
          "text": [
            "accuracy: 0.8402\n",
            "accuracy: 0.1469\n"
          ],
          "name": "stdout"
        },
        {
          "output_type": "execute_result",
          "data": {
            "text/plain": [
              "(None, None)"
            ]
          },
          "metadata": {
            "tags": []
          },
          "execution_count": 62
        }
      ]
    },
    {
      "cell_type": "code",
      "metadata": {
        "id": "Jcwd1vG8Pqxq",
        "colab_type": "code",
        "outputId": "5c4c2a75-d6fd-4d2d-d71e-9df75b322575",
        "colab": {
          "base_uri": "https://localhost:8080/",
          "height": 67
        }
      },
      "source": [
        "validate(net2, add_noise=False), validate(net2, add_noise=True);"
      ],
      "execution_count": 0,
      "outputs": [
        {
          "output_type": "stream",
          "text": [
            "accuracy: 0.6051\n",
            "accuracy: 0.7071\n"
          ],
          "name": "stdout"
        },
        {
          "output_type": "execute_result",
          "data": {
            "text/plain": [
              "(None, None)"
            ]
          },
          "metadata": {
            "tags": []
          },
          "execution_count": 61
        }
      ]
    },
    {
      "cell_type": "code",
      "metadata": {
        "id": "IOu_mVzPQzaS",
        "colab_type": "code",
        "outputId": "3aefd1ab-f7ae-48be-812d-cdf6560896f9",
        "colab": {
          "base_uri": "https://localhost:8080/",
          "height": 235
        }
      },
      "source": [
        "net3 = Net()\n",
        "net3.cuda()"
      ],
      "execution_count": 10,
      "outputs": [
        {
          "output_type": "execute_result",
          "data": {
            "text/plain": [
              "Net(\n",
              "  (conv1): Conv2d(3, 16, kernel_size=(3, 3), stride=(1, 1), padding=(1, 1))\n",
              "  (batchnorm1): BatchNorm2d(16, eps=1e-05, momentum=0.1, affine=True, track_running_stats=True)\n",
              "  (conv2): Conv2d(16, 32, kernel_size=(3, 3), stride=(1, 1), padding=(1, 1))\n",
              "  (pool): MaxPool2d(kernel_size=2, stride=2, padding=0, dilation=1, ceil_mode=False)\n",
              "  (batchnorm2): BatchNorm2d(32, eps=1e-05, momentum=0.1, affine=True, track_running_stats=True)\n",
              "  (conv3): Conv2d(32, 64, kernel_size=(3, 3), stride=(1, 1), padding=(1, 1))\n",
              "  (batchnorm3): BatchNorm2d(64, eps=1e-05, momentum=0.1, affine=True, track_running_stats=True)\n",
              "  (conv4): Conv2d(64, 128, kernel_size=(3, 3), stride=(1, 1), padding=(1, 1))\n",
              "  (batchnorm4): BatchNorm2d(128, eps=1e-05, momentum=0.1, affine=True, track_running_stats=True)\n",
              "  (avgpool): AdaptiveAvgPool2d(output_size=(1, 1))\n",
              "  (fc1): Linear(in_features=128, out_features=10, bias=True)\n",
              ")"
            ]
          },
          "metadata": {
            "tags": []
          },
          "execution_count": 10
        }
      ]
    },
    {
      "cell_type": "code",
      "metadata": {
        "id": "FjYJNLv2MAN4",
        "colab_type": "code",
        "outputId": "e2a7480e-bb12-4b18-8e7c-48cf166fec4a",
        "colab": {
          "base_uri": "https://localhost:8080/",
          "height": 34
        }
      },
      "source": [
        "net3.load_state_dict(torch.load('model3.dms'))\n",
        "validate(net3)"
      ],
      "execution_count": 0,
      "outputs": [
        {
          "output_type": "stream",
          "text": [
            "accuracy: 0.687\n"
          ],
          "name": "stdout"
        }
      ]
    },
    {
      "cell_type": "code",
      "metadata": {
        "id": "SeUzJnX7eSaH",
        "colab_type": "code",
        "colab": {}
      },
      "source": [
        "criterion3_1 = nn.CrossEntropyLoss()\n",
        "criterion3_2 = nn.BCEWithLogitsLoss()\n",
        "optimizer3 = optim.Adam(net3.parameters(), lr=1e-3)\n",
        "scheduler3 = optim.lr_scheduler.StepLR(optimizer3, step_size=1000 * 20, gamma=0.33)"
      ],
      "execution_count": 0,
      "outputs": []
    },
    {
      "cell_type": "code",
      "metadata": {
        "id": "z0AiGXiKqkKC",
        "colab_type": "code",
        "colab": {}
      },
      "source": [
        "add_noise = lambda x : x + noise_scale*torch.randn_like(x)"
      ],
      "execution_count": 0,
      "outputs": []
    },
    {
      "cell_type": "code",
      "metadata": {
        "id": "R_Yarv6sQd2G",
        "colab_type": "code",
        "colab": {}
      },
      "source": [
        "net3.train()\n",
        "temperature = 1\n",
        "for epoch in range(240):  # loop over the dataset multiple times\n",
        "\n",
        "    running_loss = 0.0\n",
        "    for i, data in tqdm(enumerate(trainloader, 1)):\n",
        "        # get the inputs; data is a list of [inputs, labels]\n",
        "        inputs, labels = data\n",
        "        inputs, labels = inputs.cuda(), labels.cuda()\n",
        "        inputs_noise = add_noise(inputs).detach()\n",
        "        # zero the parameter gradients\n",
        "        optimizer3.zero_grad()\n",
        "\n",
        "        # forward + backward + optimize\n",
        "        out_s = net3(inputs_noise)\n",
        "        out_t = net(inputs)\n",
        "        soft_log_probs = F.log_softmax(out_s / temperature, dim=1)\n",
        "        soft_targets = F.softmax(out_t / temperature, dim=1)\n",
        "        \n",
        "        # loss1 = criterion3_1(out_s, (labels))\n",
        "        # loss2 = criterion3_2(out_s, torch.from_numpy(soft_labels))\n",
        "        # loss = 0.10*loss1 + 0.90*loss2\n",
        "        distillation_loss = F.kl_div(soft_log_probs, soft_targets.detach(), reduction='mean') \n",
        "        loss = distillation_loss  #+  0.50*loss1 \n",
        "        loss.backward()\n",
        "        optimizer3.step()\n",
        "        scheduler3.step()\n",
        "        \n",
        "        # print statistics\n",
        "        running_loss += loss.item()\n",
        "        if i % 500 == 0:    # print every 2000 mini-batches\n",
        "            print('[%d, %5d] loss: %.5f' %\n",
        "                  (epoch + 1, i, running_loss / 500))\n",
        "            running_loss = 0.0\n",
        "            print(\"lr:\", scheduler3.get_lr())\n",
        "    \n",
        "\n",
        "    gc.collect()  \n",
        "    torch.cuda.empty_cache()  \n",
        "    torch.save(net3.state_dict(), \"model3_epoch%s.dms\"%epoch)\n",
        "    validate(net3, add_noise=True)\n",
        "print('Finished Training')"
      ],
      "execution_count": 0,
      "outputs": []
    },
    {
      "cell_type": "code",
      "metadata": {
        "id": "oq4k9gAz_PvN",
        "colab_type": "code",
        "colab": {}
      },
      "source": [
        "!cp  model3_epoch96.dms \"gdrive/My Drive/Colab Notebooks/Study/theasis/model3_cifar_noise.dms\""
      ],
      "execution_count": 0,
      "outputs": []
    },
    {
      "cell_type": "code",
      "metadata": {
        "id": "6xN429zin7xf",
        "colab_type": "code",
        "colab": {}
      },
      "source": [
        "!cp \"gdrive/My Drive/Colab Notebooks/Study/theasis/model3_cifar_noise.dms\" model3_cifar_noise.dms"
      ],
      "execution_count": 0,
      "outputs": []
    },
    {
      "cell_type": "code",
      "metadata": {
        "id": "hQcVRTYRn-17",
        "colab_type": "code",
        "colab": {
          "base_uri": "https://localhost:8080/",
          "height": 34
        },
        "outputId": "6793bd80-64ce-4a85-803f-b7b2255be1d8"
      },
      "source": [
        "net3.load_state_dict(torch.load('model3_cifar_noise.dms'))\n",
        "validate(net3)"
      ],
      "execution_count": 13,
      "outputs": [
        {
          "output_type": "stream",
          "text": [
            "accuracy: 0.6293\n"
          ],
          "name": "stdout"
        }
      ]
    },
    {
      "cell_type": "code",
      "metadata": {
        "id": "UzjeAA6ioIoJ",
        "colab_type": "code",
        "colab": {
          "base_uri": "https://localhost:8080/",
          "height": 34
        },
        "outputId": "e3855cb5-3354-4f9c-f825-8c11da1f0c11"
      },
      "source": [
        "validate(net3, add_noise=True)"
      ],
      "execution_count": 14,
      "outputs": [
        {
          "output_type": "stream",
          "text": [
            "accuracy: 0.7262\n"
          ],
          "name": "stdout"
        }
      ]
    }
  ]
}